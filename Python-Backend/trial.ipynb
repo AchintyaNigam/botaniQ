{
 "cells": [
  {
   "cell_type": "code",
   "execution_count": 1,
   "metadata": {},
   "outputs": [],
   "source": [
    "import requests\n"
   ]
  },
  {
   "cell_type": "code",
   "execution_count": 13,
   "metadata": {},
   "outputs": [],
   "source": [
    "\n",
    "img = \"data:image/jpeg;base64,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\""
   ]
  },
  {
   "cell_type": "code",
   "execution_count": 68,
   "metadata": {},
   "outputs": [],
   "source": [
    "headers = {\n",
    "    \"api-key\": \"2b10gywRWNHXoCGPHG7q5U5o4e\",\n",
    "    'Content-Type': 'application/json'\n",
    "}\n",
    "\"https://drive.google.com/file/d/1C6a8r61YD_ffOXzvpXNMpgvWRJtmRw96/view?usp=sharing\"\n",
    "\n",
    "payload = {\n",
    "  \"access_token\": \"GIe6akEJKXSBebJ\",\n",
    "  \"model_version\": \"plant_id:3.1.0\",\n",
    "  \"custom_id\": \"\",\n",
    "  \"input\": {\n",
    "    \"latitude\": 49.207,\n",
    "    \"longitude\": 16.608,\n",
    "    \"similar_images\": True,\n",
    "    \"images\": [\n",
    "      \"https://drive.google.com/file/d/1C6a8r61YD_ffOXzvpXNMpgvWRJtmRw96/view?usp=sharing\"\n",
    "    ],\n",
    "    \"datetime\": \"2023-07-10T06:37:48.133286+00:00\"\n",
    "  },\n",
    "  \"result\": {\n",
    "    \"is_plant\": {\n",
    "      \"probability\": 0.47637302,\n",
    "      \"binary\": False,\n",
    "      \"threshold\": 0.5\n",
    "    },\n",
    "    \"classification\": {\n",
    "      \"suggestions\": [\n",
    "        {\n",
    "          \"id\": \"ae8faed4a61d9de2\",\n",
    "          \"name\": \"Leucojum vernum\",\n",
    "          \"probability\": 0.9998723,\n",
    "          \"similar_images\": [\n",
    "            {\n",
    "              \"id\": \"587aeca4494253948c702d8356b4bebc2557a63d\",\n",
    "              \"url\": \"https://plant-id.ams3.cdn.digitaloceanspaces.com/similar_images/3/587/aeca4494253948c702d8356b4bebc2557a63d.jpg\",\n",
    "              \"license_name\": \"CC0\",\n",
    "              \"license_url\": \"https://creativecommons.org/publicdomain/zero/1.0/\",\n",
    "              \"citation\": \"hen_ry\",\n",
    "              \"similarity\": 0.683,\n",
    "              \"url_small\": \"https://plant-id.ams3.cdn.digitaloceanspaces.com/similar_images/3/587/aeca4494253948c702d8356b4bebc2557a63d.small.jpg\"\n",
    "            },\n",
    "            {\n",
    "              \"id\": \"dffa4fc0912feefa1516df8c20c080286556269f\",\n",
    "              \"url\": \"https://plant-id.ams3.cdn.digitaloceanspaces.com/similar_images/3/dff/a4fc0912feefa1516df8c20c080286556269f.jpeg\",\n",
    "              \"similarity\": 0.543,\n",
    "              \"url_small\": \"https://plant-id.ams3.cdn.digitaloceanspaces.com/similar_images/3/dff/a4fc0912feefa1516df8c20c080286556269f.small.jpeg\"\n",
    "            }\n",
    "          ],\n",
    "          \"details\": {\n",
    "            \"language\": \"en\",\n",
    "            \"entity_id\": \"ae8faed4a61d9de2\"\n",
    "          }\n",
    "        }\n",
    "      ]\n",
    "    }\n",
    "  },\n",
    "  \"status\": \"COMPLETED\",\n",
    "  \"sla_compliant_client\": True,\n",
    "  \"sla_compliant_system\": True,\n",
    "  \"created\": 1688971068.133286,\n",
    "  \"completed\": 1688971068.496495\n",
    "}"
   ]
  },
  {
   "cell_type": "code",
   "execution_count": 71,
   "metadata": {},
   "outputs": [],
   "source": [
    "res = requests.get(\"https://plant.id/api/v3/identification/\",headers = headers, params = payload)"
   ]
  },
  {
   "cell_type": "code",
   "execution_count": 72,
   "metadata": {},
   "outputs": [
    {
     "data": {
      "text/plain": [
       "'API endpoint not found. Please check documentation at https://plant.id/docs'"
      ]
     },
     "execution_count": 72,
     "metadata": {},
     "output_type": "execute_result"
    }
   ],
   "source": [
    "res.text"
   ]
  },
  {
   "cell_type": "code",
   "execution_count": 1,
   "metadata": {},
   "outputs": [
    {
     "name": "stderr",
     "output_type": "stream",
     "text": [
      "c:\\Users\\soumi\\AppData\\Local\\Programs\\Python\\Python311\\Lib\\site-packages\\sklearn\\base.py:380: InconsistentVersionWarning: Trying to unpickle estimator LabelEncoder from version 1.2.2 when using version 1.6.1. This might lead to breaking code or invalid results. Use at your own risk. For more info please refer to:\n",
      "https://scikit-learn.org/stable/model_persistence.html#security-maintainability-limitations\n",
      "  warnings.warn(\n"
     ]
    },
    {
     "name": "stdout",
     "output_type": "stream",
     "text": [
      "\u001b[1m1/1\u001b[0m \u001b[32m━━━━━━━━━━━━━━━━━━━━\u001b[0m\u001b[37m\u001b[0m \u001b[1m1s\u001b[0m 675ms/step\n",
      "Predicted class: ZZ Plant (Zamioculcas zamiifolia)\n"
     ]
    }
   ],
   "source": [
    "# Load necessary libraries\n",
    "import tensorflow as tf\n",
    "import numpy as np\n",
    "import cv2\n",
    "import pickle\n",
    "\n",
    "# Load the trained model\n",
    "model = tf.keras.models.load_model(\"base_model.keras\")\n",
    "\n",
    "# Load the label encoder\n",
    "with open(\"image_classifier.pkl\", \"rb\") as f:\n",
    "    label_encoder = pickle.load(f)\n",
    "\n",
    "# Define image preprocessing function\n",
    "IMG_SIZE = 128\n",
    "\n",
    "def preprocess_image(image_path):\n",
    "    img = cv2.imread(image_path)\n",
    "    img = cv2.resize(img, (IMG_SIZE, IMG_SIZE))\n",
    "    img = img / 255.0  # Normalize the image\n",
    "    return img\n",
    "\n",
    "# Function to make predictions on new images\n",
    "def predict_image(image_path):\n",
    "    img = preprocess_image(image_path)\n",
    "    img = np.expand_dims(img, axis=0)  # Add batch dimension\n",
    "\n",
    "    pred = model.predict(img)\n",
    "    pred_label = np.argmax(pred, axis=1)[0]\n",
    "    \n",
    "    class_name = label_encoder.inverse_transform([pred_label])[0]\n",
    "    \n",
    "    return class_name\n",
    "\n",
    "# Example usage\n",
    "image_path = \"data/image.png\"\n",
    "prediction = predict_image(image_path)\n",
    "print(f\"Predicted class: {prediction}\")\n"
   ]
  }
 ],
 "metadata": {
  "kernelspec": {
   "display_name": "Python 3",
   "language": "python",
   "name": "python3"
  },
  "language_info": {
   "codemirror_mode": {
    "name": "ipython",
    "version": 3
   },
   "file_extension": ".py",
   "mimetype": "text/x-python",
   "name": "python",
   "nbconvert_exporter": "python",
   "pygments_lexer": "ipython3",
   "version": "3.11.6"
  }
 },
 "nbformat": 4,
 "nbformat_minor": 2
}
